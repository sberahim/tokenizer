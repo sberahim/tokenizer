{
 "cells": [
  {
   "cell_type": "code",
   "execution_count": 40,
   "metadata": {},
   "outputs": [
    {
     "name": "stdout",
     "output_type": "stream",
     "text": [
      "[('<He', 'Hel', 'ell', 'llo', 'lo>', '<Wo', 'Wor', 'orl', 'rld', 'ld>')]\n"
     ]
    }
   ],
   "source": [
    "#Import library\n",
    "import re\n",
    "\n",
    "#Define the variables/list\n",
    "finaltext =[]\n",
    "xt = []\n",
    "gap = 3\n",
    "\n",
    "text = \"Hello, World\"\n",
    "\n",
    "#Split text based on the defined seperator\n",
    "split = re.split(r\"; |, |\\*|\\n\",text)\n",
    "\n",
    "#Loop through the list and add \"<>\" parenthese to each word.\n",
    "for i in split:\n",
    "    finaltext.append(\"<\"+i+\">\")\n",
    "\n",
    "#Loop through the list and split text base on 3 characters\n",
    "for i in finaltext:\n",
    "    for x in range(len(i)):\n",
    "        if((x + gap) <=len(i)):\n",
    "            splittext = i[x:x+gap]\n",
    "            xt.append(splittext)\n",
    "\n",
    "#Convert the list to tuple\n",
    "finalsplit = tuple(i for i in xt)\n",
    "\n",
    "#Add tuple to a list\n",
    "result = [finalsplit]\n",
    "\n",
    "#Print final result\n",
    "print(result)"
   ]
  }
 ],
 "metadata": {
  "kernelspec": {
   "display_name": "bootcamp",
   "language": "python",
   "name": "python3"
  },
  "language_info": {
   "codemirror_mode": {
    "name": "ipython",
    "version": 3
   },
   "file_extension": ".py",
   "mimetype": "text/x-python",
   "name": "python",
   "nbconvert_exporter": "python",
   "pygments_lexer": "ipython3",
   "version": "3.9.13"
  },
  "orig_nbformat": 4
 },
 "nbformat": 4,
 "nbformat_minor": 2
}
